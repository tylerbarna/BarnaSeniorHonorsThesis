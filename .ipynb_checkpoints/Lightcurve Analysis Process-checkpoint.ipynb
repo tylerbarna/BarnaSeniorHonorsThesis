{
 "cells": [
  {
   "cell_type": "markdown",
   "metadata": {},
   "source": [
    "###### Last Updated: 02/21/21"
   ]
  },
  {
   "cell_type": "markdown",
   "metadata": {},
   "source": [
    "This document walks through the process of analyzing lightcurves from Dr. Fausnaugh's pipeline for the purposes of my thesis."
   ]
  },
  {
   "cell_type": "markdown",
   "metadata": {},
   "source": [
    "### Receiving Data from Dr. Fausnaugh"
   ]
  },
  {
   "cell_type": "markdown",
   "metadata": {},
   "source": [
    "Dr. Fausnaugh has provided data for SIRAH targets observed by TESS organized by sector. Each sector folder contains subfolders for each CCD used during that sector. For CCDs that observed SIRAH targets, there will be two subfolders: one labeled 'lc' and one labeled 'bkg_phot.' For the purposes of my thesis, I use the cleaned data for each target located in the 'lc' folders."
   ]
  },
  {
   "cell_type": "markdown",
   "metadata": {},
   "source": [
    "### Initial Processing"
   ]
  },
  {
   "cell_type": "markdown",
   "metadata": {},
   "source": [
    "From here, the data is imported into python as Pandas DataFrames; due a quirk with the way Dr. Fausnaugh's data is interpreted by pandas.read_csv(), I use a workaround function called lcImport(), located in *useful_functions.py*. For ease of use, I also add an mjd column to the dataframe by adding 2457000 to the BTJD column values."
   ]
  },
  {
   "cell_type": "markdown",
   "metadata": {},
   "source": [
    "### Correction"
   ]
  },
  {
   "cell_type": "markdown",
   "metadata": {},
   "source": [
    "Next comes the correction; for the purposes of this project, I convert 'cts' and 'e_cts' to 'flux' and 'e_flux' by dividing by the exposure time and the area of the detector ([see here for info on TESS specs](https://heasarc.gsfc.nasa.gov/docs/tess/the-tess-space-telescope.html)). This is not necessarily required, but this results in the correction factors being approximately the order of one, so it makes for convenient factors. \n",
    "\n",
    "Following this, I use data from ZTF to correct the fluxes to similar values. This is done by interpolating the data to the same data points as the ZTF data in that sector (See *useful_functions.py* for the implementation) and applying three factors to the flux and error to minimize a penalty function: \n",
    "\n",
    "- Flux Scaling Factor\n",
    "- Flux Vertical Shift \n",
    "- bkg_model Scaling Factor\n",
    "\n",
    "This is accomplished in two ways: Initially, I used scipy.optimize.least_squares(), the implementation of which can be found in *SN2020bpi lightcurve adjustment - Fausnaugh Update.ipynb* and *SN2020bpi lightcurve adjustment.ipynb*., though the former provides a clearer idea of the process. However, I had some issues with the reliability of the least_squares() implementation when comparing the updated data provided by Dr. Fausnaugh, so I rewrote a more condensed version in *sn2020bpi_mcmc.ipynb* that uses mcmc to correct the lightcurves; the function, lcAdjustment() plots a comparison of the adjusted flux and the given flux as well as corner plots and returns a standardized Data Frame with a slimmed number of columns. I believe this provides more consistent results, but it does add the question of whether this should be integrated into the fitting model, which I will discuss in a moment. After adjusting the flux, I save the new DataFrame as a csv to be imported in another notebook."
   ]
  },
  {
   "cell_type": "markdown",
   "metadata": {},
   "source": [
    "### Fitting"
   ]
  },
  {
   "cell_type": "markdown",
   "metadata": {},
   "source": [
    "From here, I use the mcmc functions in *emceeHammer.py* to fit the functions to various models. The current primary models are 'decoupled' and 'dcGauss'. This can be seen in *sn2020bpi_mcmc.ipynb*. Currently, the mcmc fitting isn't particularly optimized, especially for the more complex models, but I need to look into this further. The mcmc functions use two dictionaries as arguments for the guess and scale length, which allows for the testing of only specific parameters in a model while holding others constant. These default values are defined in get_fullparams(), but it may be useful to add an additional argument so that one can specify the values of parameters that are held constant. When fitting the data, I normalize the flux and flux error to 40% of the peak flux of the original sn2020bpi data, but I will likely change this to use the updated data now that I have the lightcurve correction behaving as expected. Additionally, I define a new column for the data frames, 'mjd_0', which is the number of days since the beginning of TESS sector 21. "
   ]
  },
  {
   "cell_type": "markdown",
   "metadata": {},
   "source": [
    "### Work to Be Done"
   ]
  },
  {
   "cell_type": "markdown",
   "metadata": {},
   "source": [
    "1. I need to add an argument that saves the plots in relevant functions, but this can be done fairly quickly.\n",
    "\n",
    "2. I would like to find a way to optimize *emceeHammer.py* so the lightcurves can be fit more quickly; I'd also like to apply a fit to the ztf data to see if it corresponds to the fits found for the TESS data.\n",
    "\n",
    "3. It would be helpful to create more thorough documentation for the functions to make them easier for others to use; the same is true of the GitHub repository.\n",
    "\n",
    "4. Attempt to create a model that uses the raw flux data to fit the lightcurve.\n",
    "\n",
    "5. Apply the dcGauss model to the new mcmc versions of the lightcurve.\n",
    "\n",
    "6. Move the functions in *MCMC Lightcurve Correction.ipynb* to a .py file now that they're working reliably.\n",
    "\n",
    "7. Create an even more generalized notebook that can be used for any supernova with both TESS and ztf (or ATLAS?) data/\n",
    "\n",
    "8. Investigate band corrections."
   ]
  }
 ],
 "metadata": {
  "kernelspec": {
   "display_name": "Python 3",
   "language": "python",
   "name": "python3"
  },
  "language_info": {
   "codemirror_mode": {
    "name": "ipython",
    "version": 3
   },
   "file_extension": ".py",
   "mimetype": "text/x-python",
   "name": "python",
   "nbconvert_exporter": "python",
   "pygments_lexer": "ipython3",
   "version": "3.7.6"
  },
  "latex_envs": {
   "LaTeX_envs_menu_present": true,
   "autoclose": false,
   "autocomplete": true,
   "bibliofile": "biblio.bib",
   "cite_by": "apalike",
   "current_citInitial": 1,
   "eqLabelWithNumbers": true,
   "eqNumInitial": 1,
   "hotkeys": {
    "equation": "Ctrl-E",
    "itemize": "Ctrl-I"
   },
   "labels_anchors": false,
   "latex_user_defs": false,
   "report_style_numbering": false,
   "user_envs_cfg": false
  }
 },
 "nbformat": 4,
 "nbformat_minor": 4
}
