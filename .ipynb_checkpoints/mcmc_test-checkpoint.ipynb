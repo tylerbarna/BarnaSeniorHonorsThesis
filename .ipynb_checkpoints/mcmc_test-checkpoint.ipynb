{
 "cells": [
  {
   "cell_type": "code",
   "execution_count": 2,
   "metadata": {},
   "outputs": [
    {
     "name": "stdout",
     "output_type": "stream",
     "text": [
      "gzip was not found on your system! You should solve this issue for astroquery.eso to be at its best!\n",
      "On POSIX system: make sure gzip is installed and in your path!On Windows: same for 7-zip (http://www.7-zip.org)!\n"
     ]
    }
   ],
   "source": [
    "import pandas as pd\n",
    "import numpy as np\n",
    "from astropy.time import Time\n",
    "from astropy import units as u\n",
    "import sncosmo\n",
    "\n",
    "from mcmc_tools_tess import *\n",
    "from useful_functions import lcImport"
   ]
  },
  {
   "cell_type": "code",
   "execution_count": null,
   "metadata": {},
   "outputs": [],
   "source": [
    "ab = sncosmo.get_magsystem('ab')\n",
    "tess_response = pd.read_csv('./tess_response_curve.csv',header=0,names=['wl_nm','trans'])\n",
    "tess_response['wl_ang'] = (np.array(tess_response['wl_nm']) * u.nm).to_value('angstrom')\n",
    "\n",
    "atlaso_response = pd.read_csv('./atlas_o.csv',header=0,names=['wl_ang','trans'])\n",
    "\n",
    "sn2020bpi_ztf = pd.read_csv('./sn2020bpi_ztf.csv',header=0)\n",
    "sn2020bpi_ztf['BTJD'] = Time(sn2020bpi_ztf['mjd'],format='mjd').jd - 2457000.0\n",
    "sn2020bpi_ztf['magap_rolling'] = sn2020bpi_ztf['magap'].rolling(12).median()\n",
    "sn2020bpi_ztf['flux'] = [ab.band_mag_to_flux(sn2020bpi_ztf['magap'][i], 'ztfr') for i in range(len(sn2020bpi_ztf['magap']))]\n",
    "sn2020bpi_ztf['flux_rolling'] = sn2020bpi_ztf['flux'].rolling(12).median()"
   ]
  },
  {
   "cell_type": "code",
   "execution_count": null,
   "metadata": {},
   "outputs": [],
   "source": [
    "sn2020bpi_s21_dir = './Fausnaugh/sector21/cam3_ccd2/lc/lc_2020bpi_cleaned'\n",
    "sn2020bpi_s21 = lcImport(sn2020bpi_s21_dir)\n",
    "sn2020bpi_s21['cts_median'] = sn2020bpi_s21['cts'].rolling(24).median()\n",
    "sn2020bpi_s21['e_cts_median'] = sn2020bpi_s21['e_cts'].rolling(24).median()\n",
    "sn2020bpi_s21['mjd'] = Time(sn2020bpi_s21['BTJD']+2457000.0, format='jd').mjd\n",
    "\n",
    "sn2020bpi_s22_dir = './Fausnaugh/sector22/cam3_ccd1/lc/lc_2020bpi_cleaned'\n",
    "sn2020bpi_s22 = lcImport(sn2020bpi_s22_dir)\n",
    "sn2020bpi_s22['cts_median'] = sn2020bpi_s22['cts'].rolling(24).median()\n",
    "sn2020bpi_s22['e_cts_median'] = sn2020bpi_s22['e_cts'].rolling(24).median()\n",
    "sn2020bpi_s22['mjd'] = Time(sn2020bpi_s22['BTJD']+2457000.0, format='jd').mjd\n",
    "\n",
    "sn2020bpi_s22_fix = (1912,1914.5)\n",
    "sn2020bpi_s22_fixed = sn2020bpi_s22.query('BTJD > 1900')\n",
    "sn2020bpi_s22_fixed = sn2020bpi_s22_fixed[(sn2020bpi_s22_fixed['BTJD'] < sn2020bpi_s22_fix[0]) | (sn2020bpi_s22_fixed['BTJD'] > sn2020bpi_s22_fix[1])]\n",
    "\n",
    "sn2020bpi_s21s22 = pd.concat([sn2020bpi_s21,sn2020bpi_s22_fixed])\n",
    "sn2020bpi_s21s22['cts_bkg_model_sub'] = sn2020bpi_s21s22['cts'] - sn2020bpi_s21s22['bkg_model']"
   ]
  },
  {
   "cell_type": "code",
   "execution_count": null,
   "metadata": {},
   "outputs": [],
   "source": [
    "tess_start_mjd = sn2020bpi_s21s22['mjd'].min()\n",
    "tess_end_mjd = sn2020bpi_s21s22['mjd'].max()\n",
    "sn2020bpi_ztf_r = sn2020bpi_ztf.query('fid == 2 & mjd > @tess_start_mjd & mjd < @tess_end_mjd').reset_index()"
   ]
  },
  {
   "cell_type": "code",
   "execution_count": null,
   "metadata": {},
   "outputs": [],
   "source": [
    "sn2020bpi_ztf_r.keys()"
   ]
  },
  {
   "cell_type": "code",
   "execution_count": null,
   "metadata": {},
   "outputs": [],
   "source": [
    "tess_2020bpi = pd.read_csv('JhaData/TESS_SN2020bpi.csv')\n",
    "tess_2020bpi.head()"
   ]
  },
  {
   "cell_type": "code",
   "execution_count": null,
   "metadata": {},
   "outputs": [],
   "source": [
    "ztf_2020bpi = pd.read_csv('JhaData/ztf_SN2020bpi.csv')\n",
    "ztf_2020bpi['flux_err'] = 0.008*np.ones(len(ztf_2020bpi))\n",
    "ztf_2020bpi.head()"
   ]
  },
  {
   "cell_type": "code",
   "execution_count": null,
   "metadata": {},
   "outputs": [],
   "source": [
    "tess_2020bpi.rename(columns={'raw_flux':'flux','e_flux':'flux_err'},inplace=True)\n",
    "tess_2020bpi.head()"
   ]
  },
  {
   "cell_type": "code",
   "execution_count": null,
   "metadata": {},
   "outputs": [],
   "source": [
    "guess = [58872, 2.9e-4, 0.0]\n",
    "scale = [0.0005, 1e-7, 0.001]\n",
    "%time doMCMC(tess_2020bpi, guess, scale)"
   ]
  },
  {
   "cell_type": "code",
   "execution_count": null,
   "metadata": {},
   "outputs": [],
   "source": [
    "%time doMCMC(ztf_2020bpi, guess, scale)"
   ]
  },
  {
   "cell_type": "code",
   "execution_count": null,
   "metadata": {},
   "outputs": [],
   "source": []
  }
 ],
 "metadata": {
  "kernelspec": {
   "display_name": "Python 3",
   "language": "python",
   "name": "python3"
  },
  "language_info": {
   "codemirror_mode": {
    "name": "ipython",
    "version": 3
   },
   "file_extension": ".py",
   "mimetype": "text/x-python",
   "name": "python",
   "nbconvert_exporter": "python",
   "pygments_lexer": "ipython3",
   "version": "3.7.6"
  }
 },
 "nbformat": 4,
 "nbformat_minor": 4
}
