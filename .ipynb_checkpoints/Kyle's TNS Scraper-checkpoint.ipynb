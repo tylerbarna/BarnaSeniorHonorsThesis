{
 "cells": [
  {
   "cell_type": "code",
   "execution_count": 1,
   "metadata": {},
   "outputs": [],
   "source": [
    "import numpy as np\n",
    "import re\n",
    "import requests\n",
    "from bs4 import BeautifulSoup\n",
    "def goodrow(class_):\n",
    "    return ((class_==\"odd\") or (class_==\"even\"))\n",
    "def getIntName(obj_name, int_str='ZTF'):\n",
    "    link = f'https://wis-tns.weizmann.ac.il/object/{obj_name}'\n",
    "    r = requests.get(link)\n",
    "    soup = BeautifulSoup(r.text, 'html.parser')\n",
    "    for tab in soup.find_all('table',class_='atreps-results-table'):\n",
    "        for tr in tab.find_all('tbody'):\n",
    "            for row in tr.find_all(class_=goodrow,recursive=True):\n",
    "                int_name = row.find('td',class_='cell-internal_name',recursive=False)\n",
    "                try:\n",
    "                    if int_str in int_name.text:\n",
    "                        print(int_name.text)\n",
    "                except:\n",
    "                    continue\n"
   ]
  },
  {
   "cell_type": "code",
   "execution_count": 2,
   "metadata": {},
   "outputs": [
    {
     "name": "stdout",
     "output_type": "stream",
     "text": [
      "ZTF20abyyfmw\n",
      "ZTF20abyyfmw\n"
     ]
    }
   ],
   "source": [
    "getIntName('2020szr')"
   ]
  },
  {
   "cell_type": "code",
   "execution_count": null,
   "metadata": {},
   "outputs": [],
   "source": []
  }
 ],
 "metadata": {
  "kernelspec": {
   "display_name": "Python 3",
   "language": "python",
   "name": "python3"
  },
  "language_info": {
   "codemirror_mode": {
    "name": "ipython",
    "version": 3
   },
   "file_extension": ".py",
   "mimetype": "text/x-python",
   "name": "python",
   "nbconvert_exporter": "python",
   "pygments_lexer": "ipython3",
   "version": "3.7.7"
  }
 },
 "nbformat": 4,
 "nbformat_minor": 4
}
