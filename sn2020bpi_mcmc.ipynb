{
 "cells": [
  {
   "cell_type": "code",
   "execution_count": 1,
   "metadata": {},
   "outputs": [
    {
     "name": "stdout",
     "output_type": "stream",
     "text": [
      "gzip was not found on your system! You should solve this issue for astroquery.eso to be at its best!\n",
      "On POSIX system: make sure gzip is installed and in your path!On Windows: same for 7-zip (http://www.7-zip.org)!\n"
     ]
    }
   ],
   "source": [
    "from useful_functions import *"
   ]
  },
  {
   "cell_type": "code",
   "execution_count": 2,
   "metadata": {},
   "outputs": [
    {
     "data": {
      "text/html": [
       "<div>\n",
       "<style scoped>\n",
       "    .dataframe tbody tr th:only-of-type {\n",
       "        vertical-align: middle;\n",
       "    }\n",
       "\n",
       "    .dataframe tbody tr th {\n",
       "        vertical-align: top;\n",
       "    }\n",
       "\n",
       "    .dataframe thead th {\n",
       "        text-align: right;\n",
       "    }\n",
       "</style>\n",
       "<table border=\"1\" class=\"dataframe\">\n",
       "  <thead>\n",
       "    <tr style=\"text-align: right;\">\n",
       "      <th></th>\n",
       "      <th>BTJD</th>\n",
       "      <th>mjd</th>\n",
       "      <th>cts</th>\n",
       "      <th>e_cts</th>\n",
       "      <th>bkg_model</th>\n",
       "      <th>raw_flux</th>\n",
       "      <th>e_raw_flux</th>\n",
       "      <th>bkg_model_flux</th>\n",
       "      <th>flux</th>\n",
       "      <th>e_flux</th>\n",
       "      <th>mjd_0</th>\n",
       "    </tr>\n",
       "  </thead>\n",
       "  <tbody>\n",
       "    <tr>\n",
       "      <th>0</th>\n",
       "      <td>1870.44408</td>\n",
       "      <td>58869.94408</td>\n",
       "      <td>-5339.0302</td>\n",
       "      <td>1368.8706</td>\n",
       "      <td>1502.1435</td>\n",
       "      <td>-0.030663</td>\n",
       "      <td>0.007862</td>\n",
       "      <td>0.008627</td>\n",
       "      <td>0.001725</td>\n",
       "      <td>0.007501</td>\n",
       "      <td>0.00000</td>\n",
       "    </tr>\n",
       "    <tr>\n",
       "      <th>2</th>\n",
       "      <td>1870.46491</td>\n",
       "      <td>58869.96491</td>\n",
       "      <td>-6841.1413</td>\n",
       "      <td>1375.3282</td>\n",
       "      <td>1502.1435</td>\n",
       "      <td>-0.039290</td>\n",
       "      <td>0.007899</td>\n",
       "      <td>0.008627</td>\n",
       "      <td>-0.006505</td>\n",
       "      <td>0.007536</td>\n",
       "      <td>0.02083</td>\n",
       "    </tr>\n",
       "    <tr>\n",
       "      <th>4</th>\n",
       "      <td>1870.48574</td>\n",
       "      <td>58869.98574</td>\n",
       "      <td>-2219.7583</td>\n",
       "      <td>1400.7610</td>\n",
       "      <td>1501.2344</td>\n",
       "      <td>-0.012748</td>\n",
       "      <td>0.008045</td>\n",
       "      <td>0.008622</td>\n",
       "      <td>0.018823</td>\n",
       "      <td>0.007675</td>\n",
       "      <td>0.04166</td>\n",
       "    </tr>\n",
       "    <tr>\n",
       "      <th>6</th>\n",
       "      <td>1870.50658</td>\n",
       "      <td>58870.00658</td>\n",
       "      <td>-10843.6913</td>\n",
       "      <td>1370.6601</td>\n",
       "      <td>1501.2344</td>\n",
       "      <td>-0.062277</td>\n",
       "      <td>0.007872</td>\n",
       "      <td>0.008622</td>\n",
       "      <td>-0.028431</td>\n",
       "      <td>0.007510</td>\n",
       "      <td>0.06250</td>\n",
       "    </tr>\n",
       "    <tr>\n",
       "      <th>8</th>\n",
       "      <td>1870.52741</td>\n",
       "      <td>58870.02741</td>\n",
       "      <td>-9069.4821</td>\n",
       "      <td>1365.9754</td>\n",
       "      <td>1501.2344</td>\n",
       "      <td>-0.052088</td>\n",
       "      <td>0.007845</td>\n",
       "      <td>0.008622</td>\n",
       "      <td>-0.018710</td>\n",
       "      <td>0.007485</td>\n",
       "      <td>0.08333</td>\n",
       "    </tr>\n",
       "  </tbody>\n",
       "</table>\n",
       "</div>"
      ],
      "text/plain": [
       "         BTJD          mjd         cts      e_cts  bkg_model  raw_flux  \\\n",
       "0  1870.44408  58869.94408  -5339.0302  1368.8706  1502.1435 -0.030663   \n",
       "2  1870.46491  58869.96491  -6841.1413  1375.3282  1502.1435 -0.039290   \n",
       "4  1870.48574  58869.98574  -2219.7583  1400.7610  1501.2344 -0.012748   \n",
       "6  1870.50658  58870.00658 -10843.6913  1370.6601  1501.2344 -0.062277   \n",
       "8  1870.52741  58870.02741  -9069.4821  1365.9754  1501.2344 -0.052088   \n",
       "\n",
       "   e_raw_flux  bkg_model_flux      flux    e_flux    mjd_0  \n",
       "0    0.007862        0.008627  0.001725  0.007501  0.00000  \n",
       "2    0.007899        0.008627 -0.006505  0.007536  0.02083  \n",
       "4    0.008045        0.008622  0.018823  0.007675  0.04166  \n",
       "6    0.007872        0.008622 -0.028431  0.007510  0.06250  \n",
       "8    0.007845        0.008622 -0.018710  0.007485  0.08333  "
      ]
     },
     "execution_count": 2,
     "metadata": {},
     "output_type": "execute_result"
    }
   ],
   "source": [
    "tess_2020bpi = pd.read_csv('JhaData/TESS_SN2020bpi.csv')[::2]\n",
    "tess_2020bpi['mjd_0'] = tess_2020bpi['mjd'] - tess_2020bpi['mjd'].min()\n",
    "tess_2020bpi.head()"
   ]
  },
  {
   "cell_type": "code",
   "execution_count": 3,
   "metadata": {},
   "outputs": [
    {
     "data": {
      "text/html": [
       "<div>\n",
       "<style scoped>\n",
       "    .dataframe tbody tr th:only-of-type {\n",
       "        vertical-align: middle;\n",
       "    }\n",
       "\n",
       "    .dataframe tbody tr th {\n",
       "        vertical-align: top;\n",
       "    }\n",
       "\n",
       "    .dataframe thead th {\n",
       "        text-align: right;\n",
       "    }\n",
       "</style>\n",
       "<table border=\"1\" class=\"dataframe\">\n",
       "  <thead>\n",
       "    <tr style=\"text-align: right;\">\n",
       "      <th></th>\n",
       "      <th>BTJD</th>\n",
       "      <th>mjd</th>\n",
       "      <th>magap</th>\n",
       "      <th>sig_magap</th>\n",
       "      <th>flux</th>\n",
       "      <th>e_flux</th>\n",
       "      <th>mjd_0</th>\n",
       "    </tr>\n",
       "  </thead>\n",
       "  <tbody>\n",
       "    <tr>\n",
       "      <th>0</th>\n",
       "      <td>1879.870567</td>\n",
       "      <td>58879.370567</td>\n",
       "      <td>19.729799</td>\n",
       "      <td>0.2218</td>\n",
       "      <td>0.014224</td>\n",
       "      <td>(0.002628163767600394, 0.003223832161130714)</td>\n",
       "      <td>9.426487</td>\n",
       "    </tr>\n",
       "    <tr>\n",
       "      <th>1</th>\n",
       "      <td>1881.011065</td>\n",
       "      <td>58880.511065</td>\n",
       "      <td>19.959801</td>\n",
       "      <td>0.2436</td>\n",
       "      <td>0.011509</td>\n",
       "      <td>(0.0023129338055085068, 0.0028946976073013723)</td>\n",
       "      <td>10.566985</td>\n",
       "    </tr>\n",
       "    <tr>\n",
       "      <th>2</th>\n",
       "      <td>1881.031343</td>\n",
       "      <td>58880.531343</td>\n",
       "      <td>19.473101</td>\n",
       "      <td>0.1538</td>\n",
       "      <td>0.018018</td>\n",
       "      <td>(0.0023797689104727814, 0.002741920034638759)</td>\n",
       "      <td>10.587263</td>\n",
       "    </tr>\n",
       "    <tr>\n",
       "      <th>3</th>\n",
       "      <td>1881.843854</td>\n",
       "      <td>58881.343854</td>\n",
       "      <td>19.660400</td>\n",
       "      <td>0.2291</td>\n",
       "      <td>0.015163</td>\n",
       "      <td>(0.0028844699689605166, 0.003562099310207071)</td>\n",
       "      <td>11.399774</td>\n",
       "    </tr>\n",
       "    <tr>\n",
       "      <th>4</th>\n",
       "      <td>1882.032546</td>\n",
       "      <td>58881.532546</td>\n",
       "      <td>19.363001</td>\n",
       "      <td>0.1425</td>\n",
       "      <td>0.019941</td>\n",
       "      <td>(0.00245268546717093, 0.0027966740782900297)</td>\n",
       "      <td>11.588466</td>\n",
       "    </tr>\n",
       "  </tbody>\n",
       "</table>\n",
       "</div>"
      ],
      "text/plain": [
       "          BTJD           mjd      magap  sig_magap      flux  \\\n",
       "0  1879.870567  58879.370567  19.729799     0.2218  0.014224   \n",
       "1  1881.011065  58880.511065  19.959801     0.2436  0.011509   \n",
       "2  1881.031343  58880.531343  19.473101     0.1538  0.018018   \n",
       "3  1881.843854  58881.343854  19.660400     0.2291  0.015163   \n",
       "4  1882.032546  58881.532546  19.363001     0.1425  0.019941   \n",
       "\n",
       "                                           e_flux      mjd_0  \n",
       "0    (0.002628163767600394, 0.003223832161130714)   9.426487  \n",
       "1  (0.0023129338055085068, 0.0028946976073013723)  10.566985  \n",
       "2   (0.0023797689104727814, 0.002741920034638759)  10.587263  \n",
       "3   (0.0028844699689605166, 0.003562099310207071)  11.399774  \n",
       "4    (0.00245268546717093, 0.0027966740782900297)  11.588466  "
      ]
     },
     "execution_count": 3,
     "metadata": {},
     "output_type": "execute_result"
    }
   ],
   "source": [
    "ztf_2020bpi = pd.read_csv('JhaData/ztf_SN2020bpi.csv')\n",
    "ztf_2020bpi['mjd_0'] = ztf_2020bpi['mjd'] - tess_2020bpi['mjd'].min() #ztf_2020bpi['mjd'].min()\n",
    "ztf_2020bpi.head()"
   ]
  },
  {
   "cell_type": "code",
   "execution_count": 37,
   "metadata": {},
   "outputs": [],
   "source": [
    "import emcee\n",
    "import corner\n",
    "from multiprocessing import Pool\n",
    "\n",
    "def get_fullparam(t0=5,a=20,sigma=0,power=2):\n",
    "    #nparam = len(theta)\n",
    "    \n",
    "    # 0th parameter is time of explosion t0\n",
    "    # 1st parameter is a\n",
    "    # 2nd parameter is sigma \n",
    "    # 3rd parameter is power, this is left out for now\n",
    "    ## To Do: Make this use kwargs with dict so only specific \n",
    "\n",
    "    #assert (nparam >= 2) and (nparam <= 5), \"invalid nparam\"\n",
    "    \n",
    "    return {'t0':t0,'a':a, 'sigma':sigma, 'power':power}\n",
    "    #     if nparam == 2:\n",
    "    #         t0, a = theta\n",
    "    #         sigma = 0.\n",
    "    #         return t0, a, sigma\n",
    "    #         # power = 2.\n",
    "    #     elif nparam == 3:\n",
    "    #         t0, a, sigma = theta\n",
    "    #         return t0, a, sigma ## Fix, return in all cases\n",
    "    #         # power = 2.\n",
    "    #     elif nparam == 4:\n",
    "    #         t0, a, sigma, power = theta\n",
    "    #         return t0, a, sigma, power\n",
    "\n",
    "def log_prior(theta):\n",
    "    \n",
    "    nparam = len(theta)\n",
    "    thetaDict = get_fullparam(theta)\n",
    "    \n",
    "    logpr = 0.\n",
    "\n",
    "#     if nparam <= 2:\n",
    "#         return logpr\n",
    "\n",
    "    if thetaDict['sigma'] <= 0:\n",
    "        return -np.inf\n",
    "    \n",
    "    if thetaDict['t0'] < 0:\n",
    "        return -np.inf\n",
    "    \n",
    "    if thetaDict['t0'] > 10:\n",
    "        return -(10)**t0\n",
    "    \n",
    "    if thetaDict['a'] <= 0 or thetaDict['a'] >1000:\n",
    "        return -np.inf\n",
    "    \n",
    "    \n",
    "#     if power < 1.5 or power >2.5:\n",
    "#         return -np.inf\n",
    "      \n",
    "    # Can play around with different priors if you want to    \n",
    "    # if nparam >= 4:\n",
    "    #     logpr -= np.log(sigma)\n",
    "\n",
    "    return logpr\n",
    "\n",
    "def log_likelihood(theta, data):\n",
    "    \n",
    "    thetaDict = get_fullparam(theta)\n",
    "    \n",
    "    var = (data['e_flux']**2 + thetaDict['sigma']**2)\n",
    "    model = [0 if t <= thetaDict['t0'] else\n",
    "             thetaDict['a'] * (t - thetaDict['t0'])**thetaDict['power'] \n",
    "             for t in data['mjd_0']]\n",
    "    \n",
    "    \n",
    "    logl = -0.5 * (np.sum(np.log(2 * np.pi * var) + \n",
    "                            ((data['flux'] - model)**2 / var) ))\n",
    "        \n",
    "    return logl\n",
    "\n",
    "    \n",
    "def log_posterior(theta, data):\n",
    "    \n",
    "    logpr = log_prior(theta)\n",
    "    \n",
    "    if logpr == -np.inf:\n",
    "        return logpr\n",
    "    else:\n",
    "        return logpr + log_likelihood(theta, data)\n",
    "\n",
    "def doMCMC(data, guess, scale, nwalkers=100, nburn=1500, nsteps=3000):\n",
    "    '''\n",
    "    Takes data which contains mjd and flux data\n",
    "    and performs an mcmc fit on it\n",
    "    '''\n",
    "    ndim = len(guess)\n",
    "    assert ndim == len(scale)\n",
    "\n",
    "    starting_guesses = np.swapaxes(list({\n",
    "        k:(np.random.randn(nwalkers)*scale[k]+v)\n",
    "        for k,v in guess.items()}.values()),0,1)\n",
    "\n",
    "    print('sampling...')\n",
    "    sampler = emcee.EnsembleSampler(nwalkers, ndim, log_posterior, threads=-1, args=[data])\n",
    "    sampler.run_mcmc(starting_guesses, nsteps,progress=True)\n",
    "    print('done')\n",
    "    \n",
    "    \n",
    "    tlabels = [r\"t0\", \n",
    "           r\"a\",\n",
    "           r\"sigma\",\n",
    "            r\"power\"\n",
    "           ]\n",
    "    samples = sampler.chain[:, nburn:, :].reshape((-1, ndim))\n",
    "    sampler.reset()\n",
    "\n",
    "    figcorner = corner.corner(samples, labels=tlabels[0:ndim],\n",
    "                    show_titles=True, title_fmt=\".6f\", verbose=True,\n",
    "                    title_kwargs={\"fontsize\": 11}, label_kwargs={\"fontsize\": 14})\n",
    "\n",
    "    return samples"
   ]
  },
  {
   "cell_type": "code",
   "execution_count": 38,
   "metadata": {},
   "outputs": [
    {
     "data": {
      "text/plain": [
       "0.21870047543581617"
      ]
     },
     "execution_count": 38,
     "metadata": {},
     "output_type": "execute_result"
    },
    {
     "data": {
      "image/png": "[encoded data removed]",
      "text/plain": [
       "<Figure size 432x288 with 1 Axes>"
      ]
     },
     "metadata": {
      "needs_background": "light"
     },
     "output_type": "display_data"
    }
   ],
   "source": [
    "plt.scatter(tess_2020bpi[tess_2020bpi.flux >=0].mjd_0.rolling(48).median(),tess_2020bpi[tess_2020bpi.flux >=0].flux.rolling(48).median(),\n",
    "           )\n",
    "plt.scatter(tess_2020bpi[tess_2020bpi.flux <=0].mjd_0.rolling(48).median(),tess_2020bpi[tess_2020bpi.flux <=0].flux.rolling(48).median(),\n",
    "           )\n",
    "plt.xlim(0,17)\n",
    "plt.grid()\n",
    "\n",
    "len(tess_2020bpi[tess_2020bpi.flux <=0][tess_2020bpi.mjd_0 <28])/len(tess_2020bpi[tess_2020bpi.mjd_0 <28])"
   ]
  },
  {
   "cell_type": "code",
   "execution_count": 53,
   "metadata": {},
   "outputs": [
    {
     "name": "stderr",
     "output_type": "stream",
     "text": [
      "  0%|▎                                                                              | 20/5000 [00:00<00:25, 194.69it/s]"
     ]
    },
    {
     "name": "stdout",
     "output_type": "stream",
     "text": [
      "sampling...\n"
     ]
    },
    {
     "name": "stderr",
     "output_type": "stream",
     "text": [
      "100%|█████████████████████████████████████████████████████████████████████████████| 5000/5000 [00:25<00:00, 192.73it/s]\n"
     ]
    },
    {
     "name": "stdout",
     "output_type": "stream",
     "text": [
      "done\n"
     ]
    },
    {
     "data": {
      "image/png": "[encoded data removed]",
      "text/plain": [
       "<Figure size 547.2x547.2 with 9 Axes>"
      ]
     },
     "metadata": {
      "needs_background": "light"
     },
     "output_type": "display_data"
    }
   ],
   "source": [
    "guess = {'t0':5, 'a':20,'power':1.8} ## t0, a, gamma, power\n",
    "scale = {'t0':1, 'a':1,'power':0.1}\n",
    "doMCMC(tess_2020bpi[tess_2020bpi.mjd_0 <= 16.75], guess, scale,nwalkers=1000,nburn=1500,nsteps=5000);\n",
    "## t0 ~ 2 days if negative values excluded, t0 ~ 5.3 days if included "
   ]
  },
  {
   "cell_type": "code",
   "execution_count": null,
   "metadata": {},
   "outputs": [],
   "source": [
    "# tess_2020bpi[(tess_2020bpi.mjd_0 > 16.70) & (tess_2020bpi.mjd_0 <16.75)]['flux'].mean()/tess_2020bpi['flux'].max()\n",
    "# tess_2020bpi[(tess_2020bpi.mjd_0 < 28)][(tess_2020bpi.flux > 0.397*tess_2020bpi.flux.max()) & \n",
    "#              (tess_2020bpi.flux < 0.402*tess_2020bpi.flux.max())]"
   ]
  },
  {
   "cell_type": "code",
   "execution_count": null,
   "metadata": {},
   "outputs": [],
   "source": [
    "tess_2020bpi[(tess_2020bpi.mjd_0 > 16.66) & (tess_2020bpi.mjd_0 <16.67)]['flux'].mean()/tess_2020bpi['flux'].max()"
   ]
  },
  {
   "cell_type": "code",
   "execution_count": null,
   "metadata": {},
   "outputs": [],
   "source": [
    "def get_fullparam_test(t0=5,a=20,sigma=0,power=2):\n",
    "\n",
    "    #nparam = len(theta)\n",
    "    \n",
    "    # 0th parameter is time of explosion t0\n",
    "    # 1st parameter is a\n",
    "    # 2nd parameter is sigma \n",
    "    # 3rd parameter is power, this is left out for now\n",
    "    ## To Do: Make this use kwargs with dict so only specific \n",
    "\n",
    "    #assert (nparam >= 2) and (nparam <= 5), \"invalid nparam\"\n",
    "    \n",
    "    return {'t0':t0,'a':a, 'sigma':sigma, 'power':power}\n",
    "\n",
    "#     if nparam == 2:\n",
    "#         t0, a = theta\n",
    "#         sigma = 0.\n",
    "#         return t0, a, sigma\n",
    "#         # power = 2.\n",
    "#     elif nparam == 3:\n",
    "#         t0, a, sigma = theta\n",
    "#         return t0, a, sigma ## Fix, return in all cases\n",
    "#         # power = 2.\n",
    "#     elif nparam == 4:\n",
    "#         t0, a, sigma, power = theta\n",
    "#         return t0, a, sigma, power"
   ]
  },
  {
   "cell_type": "code",
   "execution_count": null,
   "metadata": {},
   "outputs": [],
   "source": [
    "get_fullparam_test(t0=0)"
   ]
  },
  {
   "cell_type": "code",
   "execution_count": 29,
   "metadata": {},
   "outputs": [
    {
     "data": {
      "text/plain": [
       "((50, 2), (50, 2))"
      ]
     },
     "execution_count": 29,
     "metadata": {},
     "output_type": "execute_result"
    }
   ],
   "source": [
    "guess = {'t0':3, 'a':0.05} ## t0, a, gamma, power\n",
    "scale = {'t0':0, 'a':0}\n",
    "gArray = [3,0.05]\n",
    "sArray = [0,0]\n",
    "nwalkers = 50\n",
    "starting_guesses = np.swapaxes(list({\n",
    "        kg:(np.random.randn(nwalkers)*scale[kg]+vg)\n",
    "        for kg,vg in guess.items()\n",
    "    }.values()),0,1)\n",
    "sgArray = np.random.randn(nwalkers, len(gArray))*sArray + gArray \n",
    "starting_guesses[0], sgArray[0]\n",
    "starting_guesses.shape, sgArray.shape"
   ]
  },
  {
   "cell_type": "code",
   "execution_count": null,
   "metadata": {},
   "outputs": [],
   "source": [
    "[scale[kg] for kg,vg in guess.items()][0]"
   ]
  },
  {
   "cell_type": "code",
   "execution_count": null,
   "metadata": {},
   "outputs": [],
   "source": [
    "[starting_guesses[key] for key in starting_guesses.keys()][0][0]"
   ]
  },
  {
   "cell_type": "code",
   "execution_count": null,
   "metadata": {},
   "outputs": [],
   "source": []
  }
 ],
 "metadata": {
  "kernelspec": {
   "display_name": "Python 3",
   "language": "python",
   "name": "python3"
  },
  "language_info": {
   "codemirror_mode": {
    "name": "ipython",
    "version": 3
   },
   "file_extension": ".py",
   "mimetype": "text/x-python",
   "name": "python",
   "nbconvert_exporter": "python",
   "pygments_lexer": "ipython3",
   "version": "3.7.6"
  }
 },
 "nbformat": 4,
 "nbformat_minor": 4
}
